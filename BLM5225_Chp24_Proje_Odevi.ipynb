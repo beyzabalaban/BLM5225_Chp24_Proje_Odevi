{
  "nbformat": 4,
  "nbformat_minor": 0,
  "metadata": {
    "colab": {
      "provenance": [],
      "authorship_tag": "ABX9TyOkwN2sNuiTi5eV7LxB112J",
      "include_colab_link": true
    },
    "kernelspec": {
      "name": "python3",
      "display_name": "Python 3"
    },
    "language_info": {
      "name": "python"
    }
  },
  "cells": [
    {
      "cell_type": "markdown",
      "metadata": {
        "id": "view-in-github",
        "colab_type": "text"
      },
      "source": [
        "<a href=\"https://colab.research.google.com/github/beyzabalaban/BLM5225_Chp24_Proje_Odevi/blob/main/BLM5225_Chp24_Proje_Odevi.ipynb\" target=\"_parent\"><img src=\"https://colab.research.google.com/assets/colab-badge.svg\" alt=\"Open In Colab\"/></a>"
      ]
    },
    {
      "cell_type": "code",
      "execution_count": null,
      "metadata": {
        "colab": {
          "base_uri": "https://localhost:8080/"
        },
        "id": "3TpeKRTefDLq",
        "outputId": "d09cb95e-cbc4-4384-892f-68fce3611a0d"
      },
      "outputs": [
        {
          "output_type": "stream",
          "name": "stdout",
          "text": [
            "Opened database successfully\n",
            "Seferler Table Created\n",
            "Ucaklar Table Created\n",
            "Yolcu Table Created\n"
          ]
        }
      ],
      "source": [
        "import sqlite3\n",
        "\n",
        "conn = sqlite3.connect('test.db')\n",
        "cur = conn.cursor()\n",
        "print(\"Opened database successfully\");\n",
        "\n",
        "conn.execute('''\n",
        "CREATE TABLE IF NOT EXISTS Seferler(\n",
        "                      ukn INTEGER not null,\n",
        "                      bn VARCHAR not null,\n",
        "                      bin VARCHAR not null,\n",
        "                      tarih VARCHAR not null,\n",
        "                      saat VARCHAR NULL,\n",
        "                      PRIMARY KEY (tarih,ukn),\n",
        "                      FOREIGN KEY (ukn) references Ucaklar(ukn)\n",
        "\n",
        "\n",
        ");''')\n",
        "\n",
        "conn.commit()\n",
        "\n",
        "print(\"Seferler Table Created\");\n",
        "\n",
        "\n",
        "conn.execute('''\n",
        "CREATE TABLE IF NOT EXISTS Ucaklar(\n",
        "  ukn INTEGER NOT NULL,\n",
        "  umodel VARCHAR NULL,\n",
        "  ukapasite VARCHAR NULL,\n",
        "  PRIMARY KEY (ukn)\n",
        ");\n",
        "''')\n",
        "\n",
        "conn.commit()\n",
        "\n",
        "print(\"Ucaklar Table Created\");\n",
        "\n",
        "conn.execute('''\n",
        "CREATE TABLE IF NOT EXISTS Yolcu(\n",
        "  tckn INTEGER NOT NULL,\n",
        "  isim VARCHAR  NULL,\n",
        "  adres VARCHAR NULL,\n",
        "  eposta varchar NULL,\n",
        "  PRIMARY KEY (tckn)\n",
        ");\n",
        "''')\n",
        "\n",
        "conn.commit()\n",
        "\n",
        "print(\"Yolcu Table Created\");\n",
        "\n",
        "conn.execute('''\n",
        "CREATE TABLE IF NOT EXISTS Yolcular(\n",
        "  tckn INTEGER NOT NULL,\n",
        "  tarih VARCHAR NOT NULL,\n",
        "  ukn NOT NULL,\n",
        "  bn VARCHAR NOT NULL,\n",
        "  bin VARCHAR NOT NULL,\n",
        "  PRIMARY KEY (tckn, ukn, tarih, bn, bin),\n",
        "  FOREIGN KEY (ukn) references Seferler(ukn)\n",
        ");\n",
        "''')\n",
        "\n",
        "conn.commit()"
      ]
    },
    {
      "cell_type": "code",
      "source": [
        "conn.execute(\"INSERT INTO Seferler(ukn, bn, bin, tarih, saat) VALUES(111, 'istanbul', 'ankara', '210517','800');\")\n",
        "conn.execute(\"INSERT INTO Seferler(ukn, bn, bin, tarih, saat) VALUES(112, 'ankara', 'izmir', '210517','900');\")\n",
        "conn.execute(\"INSERT INTO Seferler(ukn, bn, bin, tarih, saat) VALUES(113, 'eskisehir', 'fethiye', '210517','1000');\")\n",
        "conn.commit()\n",
        "\n",
        "def get_posts():\n",
        "    with conn:\n",
        "        cur.execute(\"SELECT * FROM Seferler\")\n",
        "        print(cur.fetchall())\n",
        "\n",
        "get_posts()"
      ],
      "metadata": {
        "colab": {
          "base_uri": "https://localhost:8080/"
        },
        "id": "3hVnZD_nfGwO",
        "outputId": "d3f305f2-46f5-4f98-b18f-8b293e34de75"
      },
      "execution_count": null,
      "outputs": [
        {
          "output_type": "stream",
          "name": "stdout",
          "text": [
            "[(111, 'istanbul', 'ankara', '210517', '800'), (112, 'ankara', 'izmir', '210517', '900'), (113, 'eskisehir', 'fethiye', '210517', '1000')]\n"
          ]
        }
      ]
    },
    {
      "cell_type": "code",
      "source": [
        "conn.execute(\"INSERT INTO Ucaklar(ukn, umodel, ukapasite) VALUES(111,'airbus', 200);\")\n",
        "conn.execute(\"INSERT INTO Ucaklar(ukn, umodel, ukapasite) VALUES(112, 'boeing', '750');\")\n",
        "conn.execute(\"INSERT INTO Ucaklar(ukn, umodel, ukapasite) VALUES(113, 'jet', '500');\")\n",
        "conn.commit()\n",
        "\n",
        "def get_posts():\n",
        "    with conn:\n",
        "        cur.execute(\"SELECT * FROM Ucaklar\")\n",
        "        print(cur.fetchall())\n",
        "\n",
        "get_posts()"
      ],
      "metadata": {
        "colab": {
          "base_uri": "https://localhost:8080/"
        },
        "id": "-J_-KI3ifQIQ",
        "outputId": "2e07f458-7984-41b0-f6b9-4bee2ae60741"
      },
      "execution_count": null,
      "outputs": [
        {
          "output_type": "stream",
          "name": "stdout",
          "text": [
            "[(111, 'airbus', '200'), (112, 'boeing', '750'), (113, 'jet', '500')]\n"
          ]
        }
      ]
    },
    {
      "cell_type": "code",
      "source": [
        "conn.execute(\"INSERT INTO Yolcu(tckn, isim, adres, eposta) VALUES(26,'beyza', 'eskisehir', 'xxxx');\")\n",
        "conn.execute(\"INSERT INTO Yolcu(tckn, isim, adres, eposta) VALUES(07,'serap', 'bursa', 'yyyy');\")\n",
        "conn.execute(\"INSERT INTO Yolcu(tckn, isim, adres, eposta) VALUES(01,'yasemin', 'adana', 'zzzz');\")\n",
        "conn.commit()\n",
        "\n",
        "def get_posts():\n",
        "    with conn:\n",
        "        cur.execute(\"SELECT * FROM Yolcu\")\n",
        "        print(cur.fetchall())\n",
        "\n",
        "get_posts()"
      ],
      "metadata": {
        "colab": {
          "base_uri": "https://localhost:8080/"
        },
        "id": "IULZjwNlfUAg",
        "outputId": "f3ec8a1d-3d5a-46fb-effa-09c510b5535e"
      },
      "execution_count": null,
      "outputs": [
        {
          "output_type": "stream",
          "name": "stdout",
          "text": [
            "[(1, 'yasemin', 'adana', 'zzzz'), (7, 'serap', 'bursa', 'yyyy'), (26, 'beyza', 'eskisehir', 'xxxx')]\n"
          ]
        }
      ]
    },
    {
      "cell_type": "code",
      "source": [
        "conn.execute(\"INSERT INTO Yolcular(tckn, tarih, ukn, bn, bin) VALUES(26,'210517',111, 'istanbul', 'ankara');\")\n",
        "conn.execute(\"INSERT INTO Yolcular(tckn, tarih, ukn, bn, bin) VALUES(07,'210517',112, 'ankara', 'izmir');\")\n",
        "conn.execute(\"INSERT INTO Yolcular(tckn, tarih, ukn, bn, bin) VALUES(01,'210517',113, 'eskisehir', 'fethiye');\")\n",
        "conn.commit()\n",
        "\n",
        "def get_posts():\n",
        "    with conn:\n",
        "        cur.execute(\"SELECT * FROM Yolcular\")\n",
        "        print(cur.fetchall())\n",
        "\n",
        "get_posts()"
      ],
      "metadata": {
        "colab": {
          "base_uri": "https://localhost:8080/"
        },
        "id": "cF_5eNTyfXaZ",
        "outputId": "5f8dd3b2-4aea-437a-c684-1910d64ae2f7"
      },
      "execution_count": null,
      "outputs": [
        {
          "output_type": "stream",
          "name": "stdout",
          "text": [
            "[(26, '210517', 111, 'istanbul', 'ankara'), (7, '210517', 112, 'ankara', 'izmir'), (1, '210517', 113, 'eskisehir', 'fethiye')]\n"
          ]
        }
      ]
    }
  ]
}